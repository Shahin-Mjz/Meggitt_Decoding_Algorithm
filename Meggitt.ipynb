{
 "cells": [
  {
   "cell_type": "markdown",
   "id": "bd6e6e37-93e0-475a-a91d-ffa7c7610993",
   "metadata": {},
   "source": [
    "$\\newline$\n",
    "$\\newline$\n",
    "$\\newline$\n",
    "\n",
    "\n",
    "$${\\Large{\\color{black}{\\bf{\\text{Implementation of Coder (for C(7, 4)) and Decoder for }\\color{blue}{\\underline{\\text{Meggitt Algorithm}}}}}}}$$\n",
    "\n",
    "\n",
    "$\\newline$\n",
    "$\\newline$\n",
    "$\\newline$"
   ]
  },
  {
   "cell_type": "code",
   "execution_count": 1,
   "id": "825ea81e-942c-4c64-85f9-34d4f6e965fa",
   "metadata": {},
   "outputs": [],
   "source": [
    "import numpy as np\n",
    "from time import time\n",
    "import itertools as it\n",
    "from termcolor import colored"
   ]
  },
  {
   "cell_type": "markdown",
   "id": "35113604-e48b-4818-b9fe-2213be6179f9",
   "metadata": {
    "tags": []
   },
   "source": [
    "$\\newline$\n",
    "$\\newline$\n",
    "\n",
    "\n",
    "${\\large{\\bf{}\\;\\;\\color{purple}{\\bf{{\\text{Implementation of }\\underline{\\text{Systematic Coder}}}:}}}}$\n",
    "\n",
    "\n",
    "\n",
    "\n",
    "$\\newline$\n",
    "$\\newline$"
   ]
  },
  {
   "cell_type": "markdown",
   "id": "f6125e1f-afa2-4ac7-8bd9-b2364f4c9689",
   "metadata": {},
   "source": [
    "$\\newline$\n",
    "$\\newline$\n",
    "\n",
    "\n",
    "- - > <span style='color: red'><b><font size=2>$\\color{red}{\\bf{\\text{Note: }}}$</font></b></span>\n",
    "\n",
    "\n",
    "$\\newline$\n",
    "$\\newline$\n",
    "\n",
    "\n",
    "- - - $\\color{black}{\\text{For C(7, 4) we have:}}$\n",
    "$\\bf{G} = \\begin{pmatrix} 1 & 1 & 0 & 1 & 0 & 0 & 0 \\\\ 0 & 1 & 1 & 0 & 1 & 0 & 0 \\\\ 1 & 1 & 1 & 0 & 0 & 1 & 0 \\\\ 1 & 0 & 1 & 0 & 0 & 0 & 1\\end{pmatrix}$\n",
    "\n",
    "\n",
    "$\\newline$\n",
    "$\\newline$"
   ]
  },
  {
   "cell_type": "markdown",
   "id": "6d094f89-edd6-4e6e-86fd-9d38327dea61",
   "metadata": {},
   "source": [
    "$\\newline$\n",
    "- ${{\\bf{}\\;\\;\\color{green}{\\bf{\\text{Lookup Table that includes P Array:}}}}}$\n",
    "$\\newline$"
   ]
  },
  {
   "cell_type": "code",
   "execution_count": 2,
   "id": "172396c7-b7eb-458d-86d7-5b0857044971",
   "metadata": {},
   "outputs": [],
   "source": [
    "LOOKUP_TABLE = {(7, 4): {'P': np.array([[1, 1, 0], \\\n",
    "                                        [0, 1, 1], \\\n",
    "                                        [1, 1, 1], \\\n",
    "                                        [1, 0, 1]], dtype=np.int64)}}"
   ]
  },
  {
   "cell_type": "markdown",
   "id": "1083ef29-e148-4b87-babe-45dbf00e6a5d",
   "metadata": {},
   "source": [
    "$\\newline$\n",
    "- ${{\\bf{}\\;\\;\\color{green}{\\bf{\\text{G Generation:}}}}}$\n",
    "$\\newline$"
   ]
  },
  {
   "cell_type": "code",
   "execution_count": 3,
   "id": "a783910b-9ef6-49fa-b14a-77811bb460b6",
   "metadata": {},
   "outputs": [],
   "source": [
    "def G_generator(Linear_Block_Code: tuple) -> np.ndarray:\n",
    "    n, k = Linear_Block_Code\n",
    "    I_k = np.identity(k, dtype=np.int64)\n",
    "    P = LOOKUP_TABLE[Linear_Block_Code]['P']\n",
    "    G = np.concatenate((P, I_k), axis=1, dtype=np.int64)\n",
    "    return G"
   ]
  },
  {
   "cell_type": "markdown",
   "id": "c88b0bd0-5a2d-49f2-b440-c13b4bace10b",
   "metadata": {},
   "source": [
    "$\\newline$\n",
    "- - $\\small{\\bf{}\\;\\;\\color{olive}{\\bf{\\text{Test:}}}}$\n",
    "$\\newline$"
   ]
  },
  {
   "cell_type": "code",
   "execution_count": 4,
   "id": "1cfb06ca-9051-46e9-942d-b503371485f2",
   "metadata": {},
   "outputs": [
    {
     "name": "stdout",
     "output_type": "stream",
     "text": [
      "\n",
      "\u001b[1m\u001b[34mFor Systematic Linear Block Code of C(7, 4) G Matrix will be:\u001b[0m\n",
      "\n",
      "\u001b[1m\u001b[30mG =\u001b[0m \n",
      "[[1 1 0 1 0 0 0]\n",
      " [0 1 1 0 1 0 0]\n",
      " [1 1 1 0 0 1 0]\n",
      " [1 0 1 0 0 0 1]]\n",
      "\n"
     ]
    }
   ],
   "source": [
    "G = G_generator(Linear_Block_Code=(7, 4))\n",
    "print(f'\\n{colored(\"For Systematic Linear Block Code of C(7, 4) G Matrix will be:\", \"blue\", attrs=[\"bold\"])}\\n\\n{colored(\"G =\", \"black\", attrs=[\"bold\"])} \\n{G}\\n')"
   ]
  },
  {
   "cell_type": "markdown",
   "id": "25e692b6-b3de-49a0-a780-7351266c6c31",
   "metadata": {},
   "source": [
    "$\\newline$\n",
    "- ${{\\bf{}\\;\\;\\color{green}{\\bf{\\text{U Generation:}}}}}$\n",
    "$\\newline$"
   ]
  },
  {
   "cell_type": "code",
   "execution_count": 5,
   "id": "8f7122a7-8955-47a8-a0be-0c59a715704f",
   "metadata": {},
   "outputs": [],
   "source": [
    "def U_generator(k: int) -> np.ndarray:\n",
    "    U = np.array(list(it.product([0, 1], repeat=k)), dtype=np.int64)\n",
    "    return U"
   ]
  },
  {
   "cell_type": "markdown",
   "id": "8d221f67-760d-4016-a481-6c3f40f502b0",
   "metadata": {},
   "source": [
    "$\\newline$\n",
    "- - $\\small{\\bf{}\\;\\;\\color{olive}{\\bf{\\text{Test:}}}}$\n",
    "$\\newline$"
   ]
  },
  {
   "cell_type": "code",
   "execution_count": 6,
   "id": "9dd680c5-408a-4f1a-be6e-67d2a491350d",
   "metadata": {},
   "outputs": [
    {
     "name": "stdout",
     "output_type": "stream",
     "text": [
      "\n",
      "\u001b[1m\u001b[34mFor k=4 U Matrix that includes our Messages will be: \u001b[0m\n",
      "\n",
      "\u001b[1m\u001b[30mU =\u001b[0m\n",
      "[[0 0 0 0]\n",
      " [0 0 0 1]\n",
      " [0 0 1 0]\n",
      " [0 0 1 1]\n",
      " [0 1 0 0]\n",
      " [0 1 0 1]\n",
      " [0 1 1 0]\n",
      " [0 1 1 1]\n",
      " [1 0 0 0]\n",
      " [1 0 0 1]\n",
      " [1 0 1 0]\n",
      " [1 0 1 1]\n",
      " [1 1 0 0]\n",
      " [1 1 0 1]\n",
      " [1 1 1 0]\n",
      " [1 1 1 1]]\n",
      "\n"
     ]
    }
   ],
   "source": [
    "U = U_generator(k=4)\n",
    "print(f'\\n{colored(\"For k=4 U Matrix that includes our Messages will be: \", \"blue\", attrs=[\"bold\"])}\\n\\n{colored(\"U =\", \"black\", attrs=[\"bold\"])}\\n{U}\\n')"
   ]
  },
  {
   "cell_type": "markdown",
   "id": "0d747567-edb4-4356-b965-0c2ee0ce7dad",
   "metadata": {},
   "source": [
    "$\\newline$\n",
    "- ${{\\bf{}\\;\\;\\color{green}{\\bf{\\text{V Generation}}}}}$\n",
    "$\\newline$"
   ]
  },
  {
   "cell_type": "code",
   "execution_count": 7,
   "id": "d778cc91-24c5-4934-89c2-1c9aa2e74399",
   "metadata": {},
   "outputs": [],
   "source": [
    "def Coder(Linear_Block_Code: tuple) -> np.ndarray:\n",
    "    k = Linear_Block_Code[1]\n",
    "    P = LOOKUP_TABLE[Linear_Block_Code]['P']\n",
    "    U = U_generator(k=k)\n",
    "    Parity_mat = (U @ P) % 2\n",
    "    V = np.concatenate((Parity_mat, U), axis=1)\n",
    "    return V"
   ]
  },
  {
   "cell_type": "markdown",
   "id": "168e516a-add7-4c23-93ee-eee1208b0108",
   "metadata": {},
   "source": [
    "$\\newline$\n",
    "- - $\\small{\\bf{}\\;\\;\\color{olive}{\\bf{\\text{Test:}}}}$\n",
    "$\\newline$"
   ]
  },
  {
   "cell_type": "code",
   "execution_count": 8,
   "id": "d2d4d97a-3985-4ed5-b506-3f617d8f323c",
   "metadata": {},
   "outputs": [
    {
     "name": "stdout",
     "output_type": "stream",
     "text": [
      "\n",
      "\u001b[1m\u001b[34mFor Systematic Linear Block Code of C(7, 4) V Matrix that includes our Codewords will be:\u001b[0m\n",
      "\n",
      "\u001b[1m\u001b[30mV =\u001b[0m \n",
      "[[0 0 0 0 0 0 0]\n",
      " [1 0 1 0 0 0 1]\n",
      " [1 1 1 0 0 1 0]\n",
      " [0 1 0 0 0 1 1]\n",
      " [0 1 1 0 1 0 0]\n",
      " [1 1 0 0 1 0 1]\n",
      " [1 0 0 0 1 1 0]\n",
      " [0 0 1 0 1 1 1]\n",
      " [1 1 0 1 0 0 0]\n",
      " [0 1 1 1 0 0 1]\n",
      " [0 0 1 1 0 1 0]\n",
      " [1 0 0 1 0 1 1]\n",
      " [1 0 1 1 1 0 0]\n",
      " [0 0 0 1 1 0 1]\n",
      " [0 1 0 1 1 1 0]\n",
      " [1 1 1 1 1 1 1]]\n",
      "\n"
     ]
    }
   ],
   "source": [
    "V = Coder(Linear_Block_Code=(7, 4))\n",
    "print(f'\\n{colored(\"For Systematic Linear Block Code of C(7, 4) V Matrix that includes our Codewords will be:\", \"blue\", attrs=[\"bold\"])}\\\n",
    "\\n\\n{colored(\"V =\", \"black\", attrs=[\"bold\"])} \\n{V}\\n')"
   ]
  },
  {
   "cell_type": "markdown",
   "id": "f491b830-9b71-4584-939f-58e65547f0eb",
   "metadata": {
    "tags": []
   },
   "source": [
    "$\\newline$\n",
    "$\\newline$\n",
    "\n",
    "\n",
    "${\\large{\\bf{}\\;\\;\\color{purple}{\\bf{{\\text{Implementation of }\\underline{\\text{Meggitt Decoder}}}:}}}}$\n",
    "\n",
    "\n",
    "\n",
    "\n",
    "$\\newline$\n",
    "$\\newline$"
   ]
  },
  {
   "cell_type": "markdown",
   "id": "33e09372-5ca8-4b19-b446-e3a09b298fd5",
   "metadata": {},
   "source": [
    "$\\newline$\n",
    "- ${{\\bf{}\\;\\;\\color{green}{\\bf{\\text{U Generation:}}}}}$\n",
    "$\\newline$"
   ]
  },
  {
   "cell_type": "code",
   "execution_count": 9,
   "id": "4e77bee3-45de-48d1-ba08-e33f5e845e2c",
   "metadata": {},
   "outputs": [
    {
     "name": "stdout",
     "output_type": "stream",
     "text": [
      "\n",
      "\u001b[1m\u001b[30mU =\u001b[0m\n",
      "\n",
      "[[0 0 0 0]\n",
      " [0 0 0 1]\n",
      " [0 0 1 0]\n",
      " [0 0 1 1]\n",
      " [0 1 0 0]\n",
      " [0 1 0 1]\n",
      " [0 1 1 0]\n",
      " [0 1 1 1]\n",
      " [1 0 0 0]\n",
      " [1 0 0 1]\n",
      " [1 0 1 0]\n",
      " [1 0 1 1]\n",
      " [1 1 0 0]\n",
      " [1 1 0 1]\n",
      " [1 1 1 0]\n",
      " [1 1 1 1]]\n",
      "\n"
     ]
    }
   ],
   "source": [
    "U = U_generator(k=4)\n",
    "print(f'\\n{colored(\"U =\", \"black\", attrs=[\"bold\"])}\\n\\n{U}\\n')"
   ]
  },
  {
   "cell_type": "markdown",
   "id": "36151744-890b-4584-a8f6-9b6884a496b6",
   "metadata": {},
   "source": [
    "$\\newline$\n",
    "- ${{\\bf{}\\;\\;\\color{green}{\\bf{\\text{V Generation:}}}}}$\n",
    "$\\newline$"
   ]
  },
  {
   "cell_type": "markdown",
   "id": "2378e313-0de2-42e0-8cf2-c8cc2affa0f7",
   "metadata": {},
   "source": [
    "$\\newline$\n",
    "$\\newline$\n",
    "- - > <span style='color: red'><b><font size=2>$\\color{red}{\\bf{\\text{Note: }}}$</font></b></span>\n",
    "\n",
    "\n",
    "\n",
    "$\\newline$\n",
    "$\\newline$\n",
    "- - - ${\\color{black}{\\text{We assume that the transmitted array is an array that includes all of the codewords}}}$\n",
    "$\\newline$\n",
    "$\\newline$"
   ]
  },
  {
   "cell_type": "code",
   "execution_count": 10,
   "id": "25118ca9-1830-4528-a2d5-b575e24857c2",
   "metadata": {},
   "outputs": [
    {
     "name": "stdout",
     "output_type": "stream",
     "text": [
      "\n",
      "\u001b[1m\u001b[30mV =\u001b[0m\n",
      "\n",
      "[[0 0 0 0 0 0 0]\n",
      " [1 0 1 0 0 0 1]\n",
      " [1 1 1 0 0 1 0]\n",
      " [0 1 0 0 0 1 1]\n",
      " [0 1 1 0 1 0 0]\n",
      " [1 1 0 0 1 0 1]\n",
      " [1 0 0 0 1 1 0]\n",
      " [0 0 1 0 1 1 1]\n",
      " [1 1 0 1 0 0 0]\n",
      " [0 1 1 1 0 0 1]\n",
      " [0 0 1 1 0 1 0]\n",
      " [1 0 0 1 0 1 1]\n",
      " [1 0 1 1 1 0 0]\n",
      " [0 0 0 1 1 0 1]\n",
      " [0 1 0 1 1 1 0]\n",
      " [1 1 1 1 1 1 1]]\n",
      "\n"
     ]
    }
   ],
   "source": [
    "V = Coder(Linear_Block_Code=(7, 4))\n",
    "print(f'\\n{colored(\"V =\", \"black\", attrs=[\"bold\"])}\\n\\n{V}\\n')"
   ]
  },
  {
   "cell_type": "markdown",
   "id": "4bbd57f5-e2f2-4762-8857-54bf578a2903",
   "metadata": {},
   "source": [
    "$\\newline$\n",
    "- ${{\\bf{}\\;\\;\\color{green}{\\bf{\\text{For Desired Error Pattern Matrix:}}}}}$\n",
    "$\\newline$"
   ]
  },
  {
   "cell_type": "code",
   "execution_count": 11,
   "id": "d70128cf-b0e0-47d8-b9d4-9bc8618166f5",
   "metadata": {},
   "outputs": [
    {
     "name": "stdout",
     "output_type": "stream",
     "text": [
      "\n",
      "\u001b[1m\u001b[34mDesired Error Patterns:\u001b[0m \n",
      "\n",
      "\u001b[1m\u001b[30mE = \u001b[0m\n",
      "[[0 0 0 0 0 0 0]\n",
      " [0 0 0 0 0 0 1]\n",
      " [0 0 0 0 0 1 0]\n",
      " [0 0 0 0 1 0 0]\n",
      " [0 0 0 1 0 0 0]\n",
      " [0 0 1 0 0 0 0]\n",
      " [0 1 0 0 0 0 0]\n",
      " [1 0 0 0 0 0 0]\n",
      " [0 0 0 0 0 0 0]\n",
      " [0 0 0 0 0 0 1]\n",
      " [0 0 0 0 0 1 0]\n",
      " [0 0 0 0 1 0 0]\n",
      " [0 0 0 1 0 0 0]\n",
      " [0 0 1 0 0 0 0]\n",
      " [0 1 0 0 0 0 0]\n",
      " [1 0 0 0 0 0 0]]\n",
      "\n"
     ]
    }
   ],
   "source": [
    "E = np.array([[0, 0, 0, 0, 0, 0, 0], [0, 0, 0, 0, 0, 0, 1], [0, 0, 0, 0, 0, 1, 0], [0, 0, 0, 0, 1, 0, 0], \\\n",
    "              [0, 0, 0, 1, 0, 0, 0], [0, 0, 1, 0, 0, 0, 0], [0, 1, 0, 0, 0, 0, 0], [1, 0, 0, 0, 0, 0, 0], \\\n",
    "              [0, 0, 0, 0, 0, 0, 0], [0, 0, 0, 0, 0, 0, 1], [0, 0, 0, 0, 0, 1, 0], [0, 0, 0, 0, 1, 0, 0], \\\n",
    "              [0, 0, 0, 1, 0, 0, 0], [0, 0, 1, 0, 0, 0, 0], [0, 1, 0, 0, 0, 0, 0], [1, 0, 0, 0, 0, 0, 0]], dtype=np.int64)\n",
    "print(f'\\n{colored(\"Desired Error Patterns:\", \"blue\", attrs=[\"bold\"])} \\n\\n{colored(\"E = \", \"black\", attrs=[\"bold\"])}\\n{E}\\n')"
   ]
  },
  {
   "cell_type": "markdown",
   "id": "0e4287d0-4913-4453-92bf-e598d3ac3603",
   "metadata": {},
   "source": [
    "$\\newline$\n",
    "- ${{\\bf{}\\;\\;\\color{green}{\\bf{\\text{Received Vectors (R) Generation:}}}}}$\n",
    "$\\newline$"
   ]
  },
  {
   "cell_type": "code",
   "execution_count": 12,
   "id": "9444a55f-110d-4006-ba20-c8334c9f3b8c",
   "metadata": {},
   "outputs": [],
   "source": [
    "def Channel_Out(Codewords: np.ndarray, E_patts: np.ndarray) -> np.ndarray:\n",
    "    R = (Codewords + E_patts) % 2\n",
    "    return R"
   ]
  },
  {
   "cell_type": "code",
   "execution_count": 13,
   "id": "432479d6-eac7-41e0-a375-95e0514184a3",
   "metadata": {},
   "outputs": [
    {
     "name": "stdout",
     "output_type": "stream",
     "text": [
      "\n",
      "\u001b[1m\u001b[30mR =\u001b[0m\n",
      "\n",
      "[[0 0 0 0 0 0 0]\n",
      " [1 0 1 0 0 0 0]\n",
      " [1 1 1 0 0 0 0]\n",
      " [0 1 0 0 1 1 1]\n",
      " [0 1 1 1 1 0 0]\n",
      " [1 1 1 0 1 0 1]\n",
      " [1 1 0 0 1 1 0]\n",
      " [1 0 1 0 1 1 1]\n",
      " [1 1 0 1 0 0 0]\n",
      " [0 1 1 1 0 0 0]\n",
      " [0 0 1 1 0 0 0]\n",
      " [1 0 0 1 1 1 1]\n",
      " [1 0 1 0 1 0 0]\n",
      " [0 0 1 1 1 0 1]\n",
      " [0 0 0 1 1 1 0]\n",
      " [0 1 1 1 1 1 1]]\n",
      "\n"
     ]
    }
   ],
   "source": [
    "R = Channel_Out(Codewords=V, E_patts=E)\n",
    "print(f'\\n{colored(\"R =\", \"black\", attrs=[\"bold\"])}\\n\\n{R}\\n')"
   ]
  },
  {
   "cell_type": "markdown",
   "id": "e5925246-bd7e-49d6-82d4-ce94f755647d",
   "metadata": {},
   "source": [
    "$\\newline$\n",
    "- ${{\\bf{}\\;\\;\\color{green}{\\bf{\\text{H Generation:}}}}}$\n",
    "$\\newline$"
   ]
  },
  {
   "cell_type": "code",
   "execution_count": 14,
   "id": "a47b6988-b7a9-4e5e-9d0a-51f1806995e6",
   "metadata": {},
   "outputs": [],
   "source": [
    "def H_generator(Linear_Block_Code: tuple) -> np.ndarray:\n",
    "    n, k = Linear_Block_Code\n",
    "    P = LOOKUP_TABLE[Linear_Block_Code]['P']\n",
    "    I_n_k = np.identity(n - k, dtype=np.int64)\n",
    "    H = np.concatenate((I_n_k, P.T), axis=1)\n",
    "    return H"
   ]
  },
  {
   "cell_type": "markdown",
   "id": "145804c1-c4e8-4848-9bbf-8b32d126149e",
   "metadata": {},
   "source": [
    "$\\newline$\n",
    "- - ${\\small{\\bf{}\\;\\;\\color{brown}{\\bf{\\text{Test:}}}}}$\n",
    "$\\newline$"
   ]
  },
  {
   "cell_type": "code",
   "execution_count": 15,
   "id": "b340c367-963c-48b4-a522-8675e6ae2685",
   "metadata": {},
   "outputs": [
    {
     "name": "stdout",
     "output_type": "stream",
     "text": [
      "\n",
      "\u001b[1m\u001b[34mFor Systematic Linear Block Code of C(7, 4) Parity-Check Matrix will be:\u001b[0m\n",
      "\n",
      "\u001b[1m\u001b[30mH =\u001b[0m \n",
      "[[1 0 0 1 0 1 1]\n",
      " [0 1 0 1 1 1 0]\n",
      " [0 0 1 0 1 1 1]]\n",
      "\n"
     ]
    }
   ],
   "source": [
    "H = H_generator(Linear_Block_Code=(7, 4))\n",
    "print(f'\\n{colored(\"For Systematic Linear Block Code of C(7, 4) Parity-Check Matrix will be:\", \"blue\", attrs=[\"bold\"])}\\n\\n\\\n",
    "{colored(\"H =\", \"black\", attrs=[\"bold\"])} \\n{H}\\n')"
   ]
  },
  {
   "cell_type": "markdown",
   "id": "4dd217b5-c88d-4da8-b8b0-49a6dfc81038",
   "metadata": {},
   "source": [
    "$\\newline$\n",
    "- ${{\\bf{}\\;\\;\\color{green}{\\bf{\\text{S Generation:}}}}}$\n",
    "$\\newline$"
   ]
  },
  {
   "cell_type": "code",
   "execution_count": 16,
   "id": "103e57ce-4cb4-4e2f-a23b-c8ebede365cd",
   "metadata": {},
   "outputs": [],
   "source": [
    "def S_generator(R: np.ndarray, H: np.ndarray) -> np.ndarray:\n",
    "    S = (R @ H.T) % 2\n",
    "    return S"
   ]
  },
  {
   "cell_type": "markdown",
   "id": "3baf110d-32f6-47fd-9ff3-5b4eb1a74fbd",
   "metadata": {},
   "source": [
    "$\\newline$\n",
    "- - ${\\small{\\bf{}\\;\\;\\color{brown}{\\bf{\\text{Test:}}}}}$\n",
    "$\\newline$"
   ]
  },
  {
   "cell_type": "code",
   "execution_count": 17,
   "id": "ea714267-ae68-4551-9ae3-a28ed71e8bf2",
   "metadata": {},
   "outputs": [
    {
     "name": "stdout",
     "output_type": "stream",
     "text": [
      "\n",
      "\u001b[1m\u001b[30mS =\u001b[0m\n",
      "\n",
      "[[0 0 0]\n",
      " [1 0 1]\n",
      " [1 1 1]\n",
      " [0 1 1]\n",
      " [1 1 0]\n",
      " [0 0 1]\n",
      " [0 1 0]\n",
      " [1 0 0]\n",
      " [0 0 0]\n",
      " [1 0 1]\n",
      " [1 1 1]\n",
      " [0 1 1]\n",
      " [1 1 0]\n",
      " [0 0 1]\n",
      " [0 1 0]\n",
      " [1 0 0]]\n",
      "\n"
     ]
    }
   ],
   "source": [
    "S = S_generator(R=R, H=H)\n",
    "print(f'\\n{colored(\"S =\", \"black\", attrs=[\"bold\"])}\\n\\n{S}\\n')"
   ]
  },
  {
   "cell_type": "markdown",
   "id": "43b7bb8d-d7f9-4b5a-83cc-207fa5071bb3",
   "metadata": {},
   "source": [
    "$\\newline$\n",
    "- ${{\\bf{}\\;\\;\\color{green}{\\bf{\\text{Decoder Generation:}}}}}$\n",
    "$\\newline$"
   ]
  },
  {
   "cell_type": "code",
   "execution_count": 45,
   "id": "1a0d7964-7dcc-43a2-9457-9c3f2f47f75d",
   "metadata": {},
   "outputs": [],
   "source": [
    "def Meggitt_Decoder(R: np.array, C: tuple=(7, 4)) -> np.array:\n",
    "    n, k = C\n",
    "    H = H_generator(Linear_Block_Code=C)\n",
    "    decoded_r_list = []\n",
    "    for r in R:\n",
    "        shift_register_r = r\n",
    "        for j in range(n):\n",
    "            s = (shift_register_r @ H.T) % 2\n",
    "            if list(s) == [1, 0, 1]:\n",
    "                shift_register_r[-1] = (shift_register_r[-1] + 1) % 2\n",
    "            shift_register_r = np.roll(shift_register_r, 1)\n",
    "            \n",
    "        corrected_r = shift_register_r\n",
    "        decoded_r_list.append(corrected_r)\n",
    "        \n",
    "    return np.array(decoded_r_list)"
   ]
  },
  {
   "cell_type": "markdown",
   "id": "34f4dec9-6afa-40a7-b855-062ad5cb0469",
   "metadata": {},
   "source": [
    "$\\newline$\n",
    "- - ${\\small{\\bf{}\\;\\;\\color{brown}{\\bf{\\text{Test:}}}}}$\n",
    "$\\newline$"
   ]
  },
  {
   "cell_type": "code",
   "execution_count": 50,
   "id": "8a24350f-9be1-468a-836d-6e2362853ad8",
   "metadata": {},
   "outputs": [
    {
     "name": "stdout",
     "output_type": "stream",
     "text": [
      "\n",
      "\u001b[1m\u001b[30mV = \u001b[0m\n",
      "[[0 0 0 0 0 0 0]\n",
      " [1 0 1 0 0 0 1]\n",
      " [1 1 1 0 0 1 0]\n",
      " [0 1 0 0 0 1 1]\n",
      " [0 1 1 0 1 0 0]\n",
      " [1 1 0 0 1 0 1]\n",
      " [1 0 0 0 1 1 0]\n",
      " [0 0 1 0 1 1 1]\n",
      " [1 1 0 1 0 0 0]\n",
      " [0 1 1 1 0 0 1]\n",
      " [0 0 1 1 0 1 0]\n",
      " [1 0 0 1 0 1 1]\n",
      " [1 0 1 1 1 0 0]\n",
      " [0 0 0 1 1 0 1]\n",
      " [0 1 0 1 1 1 0]\n",
      " [1 1 1 1 1 1 1]]\n",
      "\n",
      "\n",
      "\u001b[1m\u001b[30mV-hat = \u001b[0m\n",
      "[[0 0 0 0 0 0 0]\n",
      " [1 0 1 0 0 0 1]\n",
      " [1 1 1 0 0 1 0]\n",
      " [0 1 0 0 0 1 1]\n",
      " [0 1 1 0 1 0 0]\n",
      " [1 1 0 0 1 0 1]\n",
      " [1 0 0 0 1 1 0]\n",
      " [0 0 1 0 1 1 1]\n",
      " [1 1 0 1 0 0 0]\n",
      " [0 1 1 1 0 0 1]\n",
      " [0 0 1 1 0 1 0]\n",
      " [1 0 0 1 0 1 1]\n",
      " [1 0 1 1 1 0 0]\n",
      " [0 0 0 1 1 0 1]\n",
      " [0 1 0 1 1 1 0]\n",
      " [1 1 1 1 1 1 1]]\n",
      "\n"
     ]
    }
   ],
   "source": [
    "V_hat = Meggitt_Decoder(R=R)\n",
    "print(f'\\n{colored(\"V = \", \"black\", attrs=[\"bold\"])}\\n{V}\\n')\n",
    "print(f'\\n{colored(\"V-hat = \", \"black\", attrs=[\"bold\"])}\\n{V_hat}\\n')"
   ]
  },
  {
   "cell_type": "markdown",
   "id": "0be22a5f-ad66-491a-8918-b42424d6e849",
   "metadata": {},
   "source": [
    "$\\newline$\n",
    "- - ${\\small{\\bf{}\\;\\;\\color{brown}{\\bf{\\text{Equality Check between} \\; V \\; \\text{and} \\; {\\hat{V\\;\\;}}}}}{\\color{brown}{\\bf{\\text{for }}}}\\color{blue}{\\underline{\\bf{\\text{Meggit Decoder}}}}}$\n",
    "$\\newline$"
   ]
  },
  {
   "cell_type": "code",
   "execution_count": 1,
   "id": "203c63f0-2bf3-4130-82ae-db28e779059a",
   "metadata": {},
   "outputs": [
    {
     "ename": "NameError",
     "evalue": "name 'np' is not defined",
     "output_type": "error",
     "traceback": [
      "\u001b[0;31m---------------------------------------------------------------------------\u001b[0m",
      "\u001b[0;31mNameError\u001b[0m                                 Traceback (most recent call last)",
      "Cell \u001b[0;32mIn[1], line 1\u001b[0m\n\u001b[0;32m----> 1\u001b[0m Equality_Check \u001b[38;5;241m=\u001b[39m np\u001b[38;5;241m.\u001b[39munique(V \u001b[38;5;241m==\u001b[39m V_hat)[\u001b[38;5;241m0\u001b[39m]\n\u001b[1;32m      2\u001b[0m \u001b[38;5;28mprint\u001b[39m(\u001b[38;5;124mf\u001b[39m\u001b[38;5;124m'\u001b[39m\u001b[38;5;130;01m\\n\u001b[39;00m\u001b[38;5;132;01m{\u001b[39;00mcolored(\u001b[38;5;124m\"\u001b[39m\u001b[38;5;124mEquality Check: \u001b[39m\u001b[38;5;124m\"\u001b[39m,\u001b[38;5;250m \u001b[39m\u001b[38;5;124m\"\u001b[39m\u001b[38;5;124mblack\u001b[39m\u001b[38;5;124m\"\u001b[39m,\u001b[38;5;250m \u001b[39mattrs\u001b[38;5;241m=\u001b[39m[\u001b[38;5;124m\"\u001b[39m\u001b[38;5;124mbold\u001b[39m\u001b[38;5;124m\"\u001b[39m])\u001b[38;5;132;01m}\u001b[39;00m\u001b[38;5;132;01m{\u001b[39;00mcolored(Equality_Check,\u001b[38;5;250m \u001b[39m\u001b[38;5;124m\"\u001b[39m\u001b[38;5;124mblue\u001b[39m\u001b[38;5;124m\"\u001b[39m,\u001b[38;5;250m \u001b[39mattrs\u001b[38;5;241m=\u001b[39m[\u001b[38;5;124m\"\u001b[39m\u001b[38;5;124mbold\u001b[39m\u001b[38;5;124m\"\u001b[39m])\u001b[38;5;132;01m}\u001b[39;00m\u001b[38;5;130;01m\\n\u001b[39;00m\u001b[38;5;124m'\u001b[39m)\n",
      "\u001b[0;31mNameError\u001b[0m: name 'np' is not defined"
     ]
    }
   ],
   "source": [
    "Equality_Check = np.unique(V == V_hat)[0]\n",
    "print(f'\\n{colored(\"Equality Check: \", \"black\", attrs=[\"bold\"])}{colored(Equality_Check, \"blue\", attrs=[\"bold\"])}\\n')"
   ]
  },
  {
   "cell_type": "markdown",
   "id": "6476c876-5e1c-4f06-b00c-e561a4009217",
   "metadata": {},
   "source": [
    "$\\newline$\n",
    "$\\newline$\n",
    "$\\newline$\n",
    "- $\\bf{}\\;\\;\\color{blue}{\\bf{{\\text{Conclusion:}}}}$\n",
    "$\\newline$\n",
    "$\\newline$\n",
    "- - ${{\\color{black}{\\text{As we saw for error patterns that have Hamming Distance of 1, the Meggitt Decoder does decoding as }}}}$\n",
    "$\\newline$\n",
    "$\\color{\\black}{\\text{correctly when we use C(7, 4) for Coding.}}$\n",
    "\n",
    "$\\newline$\n",
    "$\\newline$\n",
    "$\\newline$"
   ]
  }
 ],
 "metadata": {
  "kernelspec": {
   "display_name": "Python 3 (ipykernel)",
   "language": "python",
   "name": "python3"
  },
  "language_info": {
   "codemirror_mode": {
    "name": "ipython",
    "version": 3
   },
   "file_extension": ".py",
   "mimetype": "text/x-python",
   "name": "python",
   "nbconvert_exporter": "python",
   "pygments_lexer": "ipython3",
   "version": "3.11.3"
  }
 },
 "nbformat": 4,
 "nbformat_minor": 5
}
